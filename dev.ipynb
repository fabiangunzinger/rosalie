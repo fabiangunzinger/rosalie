{
 "cells": [
  {
   "cell_type": "markdown",
   "id": "3e27af76-c710-45a3-98e3-e1ce00859f6c",
   "metadata": {},
   "source": [
    "# rosalie dev\n",
    "\n",
    "Notebook purpose:\n",
    "\n",
    "- Develop `rosalie` package and templates for working with it"
   ]
  },
  {
   "cell_type": "code",
   "execution_count": 18,
   "id": "fe281458-cf2e-4dba-b0c5-f3f336fdff02",
   "metadata": {
    "slideshow": {
     "slide_type": "slide"
    },
    "tags": []
   },
   "outputs": [
    {
     "name": "stdout",
     "output_type": "stream",
     "text": [
      "The line_profiler extension is already loaded. To reload it, use:\n",
      "  %reload_ext line_profiler\n",
      "The autoreload extension is already loaded. To reload it, use:\n",
      "  %reload_ext autoreload\n"
     ]
    }
   ],
   "source": [
    "import logging\n",
    "import os\n",
    "\n",
    "import numpy as np\n",
    "import pandas as pd\n",
    "from scipy.stats import ttest_ind, mannwhitneyu\n",
    "\n",
    "import rosalie as ro\n",
    "import fabutils as fu\n",
    "\n",
    "\n",
    "pd.set_option('display.max_rows', 500)\n",
    "\n",
    "%config InlineBackend.figure_format ='retina'\n",
    "%load_ext line_profiler\n",
    "%load_ext autoreload\n",
    "%autoreload 2"
   ]
  },
  {
   "cell_type": "code",
   "execution_count": 12,
   "id": "8f52f2c3",
   "metadata": {},
   "outputs": [
    {
     "data": {
      "text/html": [
       "<div>\n",
       "<style scoped>\n",
       "    .dataframe tbody tr th:only-of-type {\n",
       "        vertical-align: middle;\n",
       "    }\n",
       "\n",
       "    .dataframe tbody tr th {\n",
       "        vertical-align: top;\n",
       "    }\n",
       "\n",
       "    .dataframe thead th {\n",
       "        text-align: right;\n",
       "    }\n",
       "</style>\n",
       "<table border=\"1\" class=\"dataframe\">\n",
       "  <thead>\n",
       "    <tr style=\"text-align: right;\">\n",
       "      <th></th>\n",
       "      <th>id</th>\n",
       "      <th>y</th>\n",
       "      <th>x</th>\n",
       "      <th>d</th>\n",
       "    </tr>\n",
       "  </thead>\n",
       "  <tbody>\n",
       "    <tr>\n",
       "      <th>0</th>\n",
       "      <td>0</td>\n",
       "      <td>15.411265</td>\n",
       "      <td>16.416167</td>\n",
       "      <td>0</td>\n",
       "    </tr>\n",
       "    <tr>\n",
       "      <th>1</th>\n",
       "      <td>1</td>\n",
       "      <td>23.234019</td>\n",
       "      <td>17.460931</td>\n",
       "      <td>1</td>\n",
       "    </tr>\n",
       "    <tr>\n",
       "      <th>2</th>\n",
       "      <td>2</td>\n",
       "      <td>30.272267</td>\n",
       "      <td>22.942863</td>\n",
       "      <td>1</td>\n",
       "    </tr>\n",
       "    <tr>\n",
       "      <th>3</th>\n",
       "      <td>3</td>\n",
       "      <td>21.426262</td>\n",
       "      <td>17.170929</td>\n",
       "      <td>1</td>\n",
       "    </tr>\n",
       "    <tr>\n",
       "      <th>4</th>\n",
       "      <td>4</td>\n",
       "      <td>20.068350</td>\n",
       "      <td>17.922234</td>\n",
       "      <td>1</td>\n",
       "    </tr>\n",
       "  </tbody>\n",
       "</table>\n",
       "</div>"
      ],
      "text/plain": [
       "   id          y          x  d\n",
       "0   0  15.411265  16.416167  0\n",
       "1   1  23.234019  17.460931  1\n",
       "2   2  30.272267  22.942863  1\n",
       "3   3  21.426262  17.170929  1\n",
       "4   4  20.068350  17.922234  1"
      ]
     },
     "execution_count": 12,
     "metadata": {},
     "output_type": "execute_result"
    }
   ],
   "source": [
    "df = fu.dgp.dgp_cuped().make_data(n=10_000, seed=2312)\n",
    "df.head()"
   ]
  },
  {
   "cell_type": "code",
   "execution_count": 66,
   "id": "ea2adfd3",
   "metadata": {},
   "outputs": [],
   "source": [
    "def welch_t_test(df, metric, d=\"d\"):\n",
    "    \"\"\"Return p-value of Welch's t-test.\"\"\"\n",
    "    control_sample = df.query(\"assignments == 'control'\")[metric]\n",
    "    variant_sample = df.query(\"assignments == 'treatment'\")[metric]\n",
    "    return ttest_ind(control_sample, variant_sample, equal_var=False).pvalue\n",
    "\n",
    "def mww(df, metric, d=\"d\"):\n",
    "    \"\"\"Return p-value of Mann-Whitney-Wilcoxson U-test.\"\"\"\n",
    "    control_sample = df.query(\"assignments == 'control'\")[metric]\n",
    "    variant_sample = df.query(\"assignments == 'treatment'\")[metric]\n",
    "    return mannwhitneyu(control_sample, variant_sample).pvalue\n"
   ]
  },
  {
   "cell_type": "code",
   "execution_count": 68,
   "id": "2dd21083",
   "metadata": {},
   "outputs": [
    {
     "name": "stderr",
     "output_type": "stream",
     "text": [
      "INFO - Initializing Simulator with specified evaluators: ['welch_t_test', 'mww']\n",
      "100%|██████████| 4/4 [00:03<00:00,  1.05it/s]\n"
     ]
    },
    {
     "data": {
      "text/html": [
       "\n",
       "<style>\n",
       "  #altair-viz-a895a5c206fc48f39d60a3ebe9e291da.vega-embed {\n",
       "    width: 100%;\n",
       "    display: flex;\n",
       "  }\n",
       "\n",
       "  #altair-viz-a895a5c206fc48f39d60a3ebe9e291da.vega-embed details,\n",
       "  #altair-viz-a895a5c206fc48f39d60a3ebe9e291da.vega-embed details summary {\n",
       "    position: relative;\n",
       "  }\n",
       "</style>\n",
       "<div id=\"altair-viz-a895a5c206fc48f39d60a3ebe9e291da\"></div>\n",
       "<script type=\"text/javascript\">\n",
       "  var VEGA_DEBUG = (typeof VEGA_DEBUG == \"undefined\") ? {} : VEGA_DEBUG;\n",
       "  (function(spec, embedOpt){\n",
       "    let outputDiv = document.currentScript.previousElementSibling;\n",
       "    if (outputDiv.id !== \"altair-viz-a895a5c206fc48f39d60a3ebe9e291da\") {\n",
       "      outputDiv = document.getElementById(\"altair-viz-a895a5c206fc48f39d60a3ebe9e291da\");\n",
       "    }\n",
       "    const paths = {\n",
       "      \"vega\": \"https://cdn.jsdelivr.net/npm/vega@5?noext\",\n",
       "      \"vega-lib\": \"https://cdn.jsdelivr.net/npm/vega-lib?noext\",\n",
       "      \"vega-lite\": \"https://cdn.jsdelivr.net/npm/vega-lite@5.17.0?noext\",\n",
       "      \"vega-embed\": \"https://cdn.jsdelivr.net/npm/vega-embed@6?noext\",\n",
       "    };\n",
       "\n",
       "    function maybeLoadScript(lib, version) {\n",
       "      var key = `${lib.replace(\"-\", \"\")}_version`;\n",
       "      return (VEGA_DEBUG[key] == version) ?\n",
       "        Promise.resolve(paths[lib]) :\n",
       "        new Promise(function(resolve, reject) {\n",
       "          var s = document.createElement('script');\n",
       "          document.getElementsByTagName(\"head\")[0].appendChild(s);\n",
       "          s.async = true;\n",
       "          s.onload = () => {\n",
       "            VEGA_DEBUG[key] = version;\n",
       "            return resolve(paths[lib]);\n",
       "          };\n",
       "          s.onerror = () => reject(`Error loading script: ${paths[lib]}`);\n",
       "          s.src = paths[lib];\n",
       "        });\n",
       "    }\n",
       "\n",
       "    function showError(err) {\n",
       "      outputDiv.innerHTML = `<div class=\"error\" style=\"color:red;\">${err}</div>`;\n",
       "      throw err;\n",
       "    }\n",
       "\n",
       "    function displayChart(vegaEmbed) {\n",
       "      vegaEmbed(outputDiv, spec, embedOpt)\n",
       "        .catch(err => showError(`Javascript Error: ${err.message}<br>This usually means there's a typo in your chart specification. See the javascript console for the full traceback.`));\n",
       "    }\n",
       "\n",
       "    if(typeof define === \"function\" && define.amd) {\n",
       "      requirejs.config({paths});\n",
       "      require([\"vega-embed\"], displayChart, err => showError(`Error loading script: ${err.message}`));\n",
       "    } else {\n",
       "      maybeLoadScript(\"vega\", \"5\")\n",
       "        .then(() => maybeLoadScript(\"vega-lite\", \"5.17.0\"))\n",
       "        .then(() => maybeLoadScript(\"vega-embed\", \"6\"))\n",
       "        .catch(showError)\n",
       "        .then(() => displayChart(vegaEmbed));\n",
       "    }\n",
       "  })({\"config\": {\"view\": {\"continuousWidth\": 300, \"continuousHeight\": 300}}, \"vconcat\": [{\"layer\": [{\"mark\": {\"type\": \"point\"}, \"encoding\": {\"color\": {\"field\": \"evaluator\", \"legend\": {\"title\": \"Evaluator\"}, \"type\": \"nominal\"}, \"x\": {\"axis\": {\"title\": \"Sample size\"}, \"field\": \"sample_size\", \"type\": \"quantitative\"}, \"y\": {\"axis\": {\"title\": \"Power\"}, \"field\": \"power\", \"type\": \"quantitative\"}}}, {\"mark\": {\"type\": \"line\"}, \"encoding\": {\"color\": {\"field\": \"evaluator\", \"legend\": {\"title\": \"Evaluator\"}, \"type\": \"nominal\"}, \"x\": {\"axis\": {\"title\": \"Sample size\"}, \"field\": \"sample_size\", \"type\": \"quantitative\"}, \"y\": {\"axis\": {\"title\": \"Power\"}, \"field\": \"power\", \"type\": \"quantitative\"}}, \"transform\": [{\"loess\": \"power\", \"on\": \"sample_size\", \"groupby\": [\"evaluator\"]}]}, {\"data\": {\"name\": \"data-5b672ad3d4117d93a45b38a530bbe167\"}, \"mark\": {\"type\": \"rule\", \"color\": \"red\"}, \"encoding\": {\"y\": {\"axis\": {\"title\": \"\"}, \"field\": \"a\", \"type\": \"quantitative\"}}, \"transform\": [{\"calculate\": \"0.8\", \"as\": \"a\"}]}], \"title\": \"y, MDES = 2%\"}], \"data\": {\"name\": \"data-5b672ad3d4117d93a45b38a530bbe167\"}, \"$schema\": \"https://vega.github.io/schema/vega-lite/v5.17.0.json\", \"datasets\": {\"data-5b672ad3d4117d93a45b38a530bbe167\": [{\"metric\": \"y\", \"evaluator\": \"mww\", \"sample_size\": 100, \"mdes\": 0.02, \"power\": 0.075}, {\"metric\": \"y\", \"evaluator\": \"mww\", \"sample_size\": 3400, \"mdes\": 0.02, \"power\": 0.85}, {\"metric\": \"y\", \"evaluator\": \"mww\", \"sample_size\": 6700, \"mdes\": 0.02, \"power\": 1.0}, {\"metric\": \"y\", \"evaluator\": \"mww\", \"sample_size\": 10000, \"mdes\": 0.02, \"power\": 1.0}, {\"metric\": \"y\", \"evaluator\": \"welch_t_test\", \"sample_size\": 100, \"mdes\": 0.02, \"power\": 0.075}, {\"metric\": \"y\", \"evaluator\": \"welch_t_test\", \"sample_size\": 3400, \"mdes\": 0.02, \"power\": 0.875}, {\"metric\": \"y\", \"evaluator\": \"welch_t_test\", \"sample_size\": 6700, \"mdes\": 0.02, \"power\": 1.0}, {\"metric\": \"y\", \"evaluator\": \"welch_t_test\", \"sample_size\": 10000, \"mdes\": 0.02, \"power\": 1.0}]}}, {\"mode\": \"vega-lite\"});\n",
       "</script>"
      ],
      "text/plain": [
       "alt.VConcatChart(...)"
      ]
     },
     "metadata": {},
     "output_type": "display_data"
    }
   ],
   "source": [
    "\n",
    "eval = ro.Simulator(\n",
    "    df=df,\n",
    "    metrics=['y'],\n",
    "    evaluators=[welch_t_test, mww],\n",
    "    sample_min=100,\n",
    "    sample_max=10_000,\n",
    "    num_steps=4,\n",
    "    mdes=[0.02],\n",
    "    num_runs=40,\n",
    "    verbose=True,\n",
    ")\n",
    "result = eval.run()\n",
    "result.plot().display()"
   ]
  },
  {
   "cell_type": "code",
   "execution_count": null,
   "id": "f11d00d4",
   "metadata": {},
   "outputs": [],
   "source": []
  }
 ],
 "metadata": {
  "kernelspec": {
   "display_name": "Python 3 (ipykernel)",
   "language": "python",
   "name": "python3"
  },
  "language_info": {
   "codemirror_mode": {
    "name": "ipython",
    "version": 3
   },
   "file_extension": ".py",
   "mimetype": "text/x-python",
   "name": "python",
   "nbconvert_exporter": "python",
   "pygments_lexer": "ipython3",
   "version": "3.10.8"
  }
 },
 "nbformat": 4,
 "nbformat_minor": 5
}
