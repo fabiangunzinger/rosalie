{
 "cells": [
  {
   "cell_type": "markdown",
   "id": "3e27af76-c710-45a3-98e3-e1ce00859f6c",
   "metadata": {},
   "source": [
    "# rosalie dev\n",
    "\n",
    "Notebook purpose:\n",
    "\n",
    "- Develop `rosalie` package and templates for working with it"
   ]
  },
  {
   "cell_type": "code",
   "execution_count": 69,
   "id": "fe281458-cf2e-4dba-b0c5-f3f336fdff02",
   "metadata": {
    "slideshow": {
     "slide_type": "slide"
    },
    "tags": []
   },
   "outputs": [
    {
     "name": "stdout",
     "output_type": "stream",
     "text": [
      "The line_profiler extension is already loaded. To reload it, use:\n",
      "  %reload_ext line_profiler\n",
      "The autoreload extension is already loaded. To reload it, use:\n",
      "  %reload_ext autoreload\n"
     ]
    }
   ],
   "source": [
    "import logging\n",
    "import os\n",
    "\n",
    "import numpy as np\n",
    "import pandas as pd\n",
    "from scipy.stats import ttest_ind, mannwhitneyu\n",
    "\n",
    "import rosalie as ro\n",
    "import fabutils as fu\n",
    "\n",
    "\n",
    "pd.set_option('display.max_rows', 500)\n",
    "\n",
    "%config InlineBackend.figure_format ='retina'\n",
    "%load_ext line_profiler\n",
    "%load_ext autoreload\n",
    "%autoreload 2"
   ]
  },
  {
   "cell_type": "code",
   "execution_count": 89,
   "id": "8f52f2c3",
   "metadata": {},
   "outputs": [
    {
     "data": {
      "text/html": [
       "<div>\n",
       "<style scoped>\n",
       "    .dataframe tbody tr th:only-of-type {\n",
       "        vertical-align: middle;\n",
       "    }\n",
       "\n",
       "    .dataframe tbody tr th {\n",
       "        vertical-align: top;\n",
       "    }\n",
       "\n",
       "    .dataframe thead th {\n",
       "        text-align: right;\n",
       "    }\n",
       "</style>\n",
       "<table border=\"1\" class=\"dataframe\">\n",
       "  <thead>\n",
       "    <tr style=\"text-align: right;\">\n",
       "      <th></th>\n",
       "      <th>id</th>\n",
       "      <th>y</th>\n",
       "      <th>x</th>\n",
       "      <th>d</th>\n",
       "    </tr>\n",
       "    <tr>\n",
       "      <th>id</th>\n",
       "      <th></th>\n",
       "      <th></th>\n",
       "      <th></th>\n",
       "      <th></th>\n",
       "    </tr>\n",
       "  </thead>\n",
       "  <tbody>\n",
       "    <tr>\n",
       "      <th>0</th>\n",
       "      <td>0</td>\n",
       "      <td>23.871381</td>\n",
       "      <td>16.416167</td>\n",
       "      <td>1</td>\n",
       "    </tr>\n",
       "    <tr>\n",
       "      <th>1</th>\n",
       "      <td>1</td>\n",
       "      <td>19.789949</td>\n",
       "      <td>17.460931</td>\n",
       "      <td>1</td>\n",
       "    </tr>\n",
       "    <tr>\n",
       "      <th>2</th>\n",
       "      <td>2</td>\n",
       "      <td>26.884960</td>\n",
       "      <td>22.942863</td>\n",
       "      <td>0</td>\n",
       "    </tr>\n",
       "    <tr>\n",
       "      <th>3</th>\n",
       "      <td>3</td>\n",
       "      <td>23.529556</td>\n",
       "      <td>17.170929</td>\n",
       "      <td>1</td>\n",
       "    </tr>\n",
       "    <tr>\n",
       "      <th>4</th>\n",
       "      <td>4</td>\n",
       "      <td>20.878394</td>\n",
       "      <td>17.922234</td>\n",
       "      <td>0</td>\n",
       "    </tr>\n",
       "  </tbody>\n",
       "</table>\n",
       "</div>"
      ],
      "text/plain": [
       "    id          y          x  d\n",
       "id                             \n",
       "0    0  23.871381  16.416167  1\n",
       "1    1  19.789949  17.460931  1\n",
       "2    2  26.884960  22.942863  0\n",
       "3    3  23.529556  17.170929  1\n",
       "4    4  20.878394  17.922234  0"
      ]
     },
     "execution_count": 89,
     "metadata": {},
     "output_type": "execute_result"
    }
   ],
   "source": [
    "df = fu.dgp.dgp_cuped().make_data(n=10_000_000, seed=2312).set_index('id', drop=False)\n",
    "df.head()"
   ]
  },
  {
   "cell_type": "code",
   "execution_count": 72,
   "id": "ea2adfd3",
   "metadata": {},
   "outputs": [],
   "source": [
    "def welch_t_test(df, metric, d=\"d\"):\n",
    "    \"\"\"Return p-value of Welch's t-test.\"\"\"\n",
    "    control_sample = df.query(\"assignments == 'control'\")[metric]\n",
    "    variant_sample = df.query(\"assignments == 'treatment'\")[metric]\n",
    "    return ttest_ind(control_sample, variant_sample, equal_var=False).pvalue\n",
    "\n",
    "def mww(df, metric, d=\"d\"):\n",
    "    \"\"\"Return p-value of Mann-Whitney-Wilcoxson U-test.\"\"\"\n",
    "    control_sample = df.query(\"assignments == 'control'\")[metric]\n",
    "    variant_sample = df.query(\"assignments == 'treatment'\")[metric]\n",
    "    return mannwhitneyu(control_sample, variant_sample).pvalue\n"
   ]
  },
  {
   "cell_type": "markdown",
   "id": "13ef5c7f",
   "metadata": {},
   "source": [
    "## testing"
   ]
  },
  {
   "cell_type": "code",
   "execution_count": 101,
   "id": "a14abee5",
   "metadata": {},
   "outputs": [
    {
     "name": "stderr",
     "output_type": "stream",
     "text": [
      "100%|██████████| 4/4 [00:04<00:00,  1.07s/it]\n",
      "100%|██████████| 4/4 [00:04<00:00,  1.10s/it]\n",
      "100%|██████████| 4/4 [00:04<00:00,  1.24s/it]\n",
      "100%|██████████| 4/4 [00:04<00:00,  1.07s/it]\n",
      "100%|██████████| 4/4 [00:04<00:00,  1.20s/it]\n",
      "100%|██████████| 4/4 [00:04<00:00,  1.13s/it]\n",
      "100%|██████████| 4/4 [00:04<00:00,  1.14s/it]\n",
      "100%|██████████| 4/4 [00:04<00:00,  1.11s/it]"
     ]
    },
    {
     "name": "stdout",
     "output_type": "stream",
     "text": [
      "5.75 s ± 253 ms per loop (mean ± std. dev. of 7 runs, 1 loop each)\n"
     ]
    },
    {
     "name": "stderr",
     "output_type": "stream",
     "text": [
      "\n"
     ]
    }
   ],
   "source": [
    "%%timeit\n",
    "\n",
    "eval = ro.Simulator(\n",
    "    df=df,\n",
    "    metrics=['y'],\n",
    "    evaluators=[welch_t_test],\n",
    "    sample_min=100,\n",
    "    sample_max=1_000,\n",
    "    num_steps=4,\n",
    "    mdes=[0.02],\n",
    "    num_runs=20,\n",
    "    verbose=False,\n",
    ")\n",
    "result = eval.run()"
   ]
  },
  {
   "cell_type": "code",
   "execution_count": 103,
   "id": "083bc602",
   "metadata": {},
   "outputs": [
    {
     "name": "stderr",
     "output_type": "stream",
     "text": [
      "100%|██████████| 4/4 [00:00<00:00,  5.62it/s]\n",
      "100%|██████████| 4/4 [00:00<00:00,  5.72it/s]\n",
      "100%|██████████| 4/4 [00:00<00:00,  4.52it/s]\n",
      "100%|██████████| 4/4 [00:00<00:00,  5.35it/s]\n",
      "100%|██████████| 4/4 [00:00<00:00,  5.97it/s]\n",
      "100%|██████████| 4/4 [00:00<00:00,  5.59it/s]\n",
      "100%|██████████| 4/4 [00:00<00:00,  5.96it/s]\n",
      "100%|██████████| 4/4 [00:00<00:00,  5.98it/s]"
     ]
    },
    {
     "name": "stdout",
     "output_type": "stream",
     "text": [
      "1.84 s ± 94.7 ms per loop (mean ± std. dev. of 7 runs, 1 loop each)\n"
     ]
    },
    {
     "name": "stderr",
     "output_type": "stream",
     "text": [
      "\n"
     ]
    }
   ],
   "source": [
    "%%timeit\n",
    "\n",
    "eval = ro.Simulator(\n",
    "    df=df,\n",
    "    metrics=['y'],\n",
    "    evaluators=[welch_t_test],\n",
    "    sample_min=100,\n",
    "    sample_max=1_000,\n",
    "    num_steps=4,\n",
    "    mdes=[0.02],\n",
    "    num_runs=20,\n",
    "    verbose=False,\n",
    ")\n",
    "result = eval.run()"
   ]
  },
  {
   "cell_type": "markdown",
   "id": "5be33bdc",
   "metadata": {},
   "source": [
    "## dev"
   ]
  },
  {
   "cell_type": "code",
   "execution_count": 91,
   "id": "2dd21083",
   "metadata": {},
   "outputs": [
    {
     "name": "stderr",
     "output_type": "stream",
     "text": [
      "100%|██████████| 4/4 [00:01<00:00,  3.81it/s]\n",
      "INFO - Initializing Simulator with specified evaluators: ['welch_t_test']\n",
      "INFO - Initializing Simulator with specified evaluators: ['welch_t_test']\n",
      "INFO - Initializing Simulator with specified evaluators: ['welch_t_test']\n",
      "INFO - Initializing Simulator with specified evaluators: ['welch_t_test']\n",
      "100%|██████████| 4/4 [00:00<00:00,  5.97it/s]\n"
     ]
    },
    {
     "name": "stdout",
     "output_type": "stream",
     "text": [
      "Timer unit: 1e-09 s\n",
      "\n",
      "Total time: 1.05953 s\n",
      "File: /Users/fgu/dev/personal/rosalie/rosalie/simulator.py\n",
      "Function: run at line 117\n",
      "\n",
      "Line #      Hits         Time  Per Hit   % Time  Line Contents\n",
      "==============================================================\n",
      "   117                                               def run(self):\n",
      "   118                                                   \"\"\"Run simulation.\"\"\"\n",
      "   119         1       1000.0   1000.0      0.0          results = []\n",
      "   120         2       2000.0   1000.0      0.0          for preprocessor in self.preprocessors:\n",
      "   121         1       2000.0   2000.0      0.0              df_preproc = preprocessor(self.df)\n",
      "   122         5    8345000.0    2e+06      0.8              for sample_size in tqdm(self._calc_sample_sizes()):\n",
      "   123         4      10000.0   2500.0      0.0                  sample_func = self._get_sample_func()\n",
      "   124         4    5077000.0    1e+06      0.5                  df_sample = sample_func(df_preproc, sample_size)\n",
      "   125        84      51000.0    607.1      0.0                  for _ in range(self.num_runs):\n",
      "   126        80  207327000.0    3e+06     19.6                      df_assigned = self._create_treatment_assignments(df_sample)\n",
      "   127       160     161000.0   1006.2      0.0                      for mdes in self.mdes:\n",
      "   128       160  147358000.0 920987.5     13.9                          df_effect = self._add_treatment_effect(\n",
      "   129        80      55000.0    687.5      0.0                              df_assigned, self.metrics, mdes\n",
      "   130                                                                   )\n",
      "   131       160     145000.0    906.2      0.0                          for metric in self.metrics:\n",
      "   132       160     134000.0    837.5      0.0                              for evaluator in self.evaluators:\n",
      "   133        80  682739000.0    9e+06     64.4                                  p = evaluator(df_effect, metric)\n",
      "   134        80     113000.0   1412.5      0.0                                  is_statsig = p <= self.alpha\n",
      "   135       160     391000.0   2443.8      0.0                                  result = ExperimentResult(\n",
      "   136        80      22000.0    275.0      0.0                                      metric=metric,\n",
      "   137        80      67000.0    837.5      0.0                                      preprocessor=preprocessor.__name__,\n",
      "   138        80      38000.0    475.0      0.0                                      evaluator=evaluator.__name__,\n",
      "   139        80      37000.0    462.5      0.0                                      sample_size=sample_size,\n",
      "   140        80      26000.0    325.0      0.0                                      mdes=mdes,\n",
      "   141        80      25000.0    312.5      0.0                                      power=is_statsig,\n",
      "   142                                                                           )\n",
      "   143        80      72000.0    900.0      0.0                                  results.append(result)\n",
      "   144                                           \n",
      "   145         1      24000.0  24000.0      0.0          result_cols = self._get_result_cols()\n",
      "   146         2       4000.0   2000.0      0.0          result = Result(\n",
      "   147         2    1860000.0 930000.0      0.2              pd.DataFrame(results)\n",
      "   148         1       3000.0   3000.0      0.0              .loc[:, result_cols]\n",
      "   149         1     370000.0 370000.0      0.0              .groupby(result_cols[:-1])\n",
      "   150         1    1678000.0    2e+06      0.2              .mean()\n",
      "   151         1    1382000.0    1e+06      0.1              .reset_index()\n",
      "   152         1    2012000.0    2e+06      0.2              .sort_values(result_cols)\n",
      "   153                                                   )\n",
      "   154         1       1000.0   1000.0      0.0          return result"
     ]
    }
   ],
   "source": [
    "%lprun -f eval.run eval.run()\n",
    "\n",
    "eval = ro.Simulator(\n",
    "    df=df,\n",
    "    metrics=['y'],\n",
    "    evaluators=[welch_t_test],\n",
    "    sample_min=100,\n",
    "    sample_max=1_000,\n",
    "    num_steps=4,\n",
    "    mdes=[0.02],\n",
    "    num_runs=20,\n",
    "    verbose=True,\n",
    ")\n",
    "result = eval.run()"
   ]
  },
  {
   "cell_type": "code",
   "execution_count": null,
   "id": "f11d00d4",
   "metadata": {},
   "outputs": [],
   "source": []
  }
 ],
 "metadata": {
  "kernelspec": {
   "display_name": "Python 3 (ipykernel)",
   "language": "python",
   "name": "python3"
  },
  "language_info": {
   "codemirror_mode": {
    "name": "ipython",
    "version": 3
   },
   "file_extension": ".py",
   "mimetype": "text/x-python",
   "name": "python",
   "nbconvert_exporter": "python",
   "pygments_lexer": "ipython3",
   "version": "3.10.8"
  }
 },
 "nbformat": 4,
 "nbformat_minor": 5
}
